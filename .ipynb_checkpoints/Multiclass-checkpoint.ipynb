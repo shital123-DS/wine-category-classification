{
 "cells": [
  {
   "cell_type": "code",
   "execution_count": null,
   "id": "5a4650da",
   "metadata": {},
   "outputs": [],
   "source": [
    "Classification :-\n",
    "    1. Binary Classification\n",
    "    2. Multiclass Classification\n",
    "      \n",
    "Multiclass Classification :- \n",
    "    1. Multinominal Classification \n",
    "    2. Multiordinal Classification\n",
    "    \n",
    "MultiClass >> more that 2 class\n",
    "\n",
    "e.g. \n",
    "Vehicle Classification >> car, truck, bus, auto etc\n",
    "Colours Classification >> red, blue, green, yellow"
   ]
  },
  {
   "cell_type": "code",
   "execution_count": null,
   "id": "eb4b5239",
   "metadata": {},
   "outputs": [],
   "source": [
    "Multi-Nominal Classification Methods / Approach :- \n",
    "    \n",
    "    1. One Vs Rest (OVR) or One Vs All (OVA) :- \n",
    "        In this classification approach one class consider as positive and rest of classes consider as negative.\n",
    "        \n",
    "        [Red, Blue, Green]\n",
    "        \n",
    "        Binary Classification 1 :- Red Vs [Blue, Green]\n",
    "        Binary Classification 2 :- Blue Vs [Red, Green]\n",
    "        Binary Classification 3 :- Green Vs [Red, Blue]\n",
    "            \n",
    "    2. One Vs One (OVO) :- \n",
    "        In this classification approach one class consider as positive and other class consider as negative.\n",
    "        No. of classification = n * (n-1)/2      # n = no. of classes\n",
    "        \n",
    "        [Red, Green, Blue, Yellow] \n",
    "        \n",
    "        n = no. of class = 4\n",
    "        \n",
    "        No. of classification = 4 * (4-1) / 2 = 6\n",
    "        \n",
    "        Binary Classification 1 :- Red Vs Green\n",
    "        Binary Classification 2 :- Red Vs Blue\n",
    "        Binary Classification 3 :- Red Vs Yellow\n",
    "        Binary Classification 4 :- Green Vs Blue\n",
    "        Binary Classification 5 :- Green Vs Yellow\n",
    "        Binary Classification 6 :- Blue Vs Yellow"
   ]
  },
  {
   "cell_type": "code",
   "execution_count": null,
   "id": "a4408702",
   "metadata": {},
   "outputs": [],
   "source": [
    "Matrix Format :- \n",
    "    \n",
    "    Matrix Size = N * N \n",
    "    \n",
    "    where N = No. of Classes\n",
    "    \n",
    "    E.g. No of Classes = 3 \n",
    "         Matrix Size = 3 * 3"
   ]
  }
 ],
 "metadata": {
  "kernelspec": {
   "display_name": "Python 3 (ipykernel)",
   "language": "python",
   "name": "python3"
  },
  "language_info": {
   "codemirror_mode": {
    "name": "ipython",
    "version": 3
   },
   "file_extension": ".py",
   "mimetype": "text/x-python",
   "name": "python",
   "nbconvert_exporter": "python",
   "pygments_lexer": "ipython3",
   "version": "3.10.4"
  }
 },
 "nbformat": 4,
 "nbformat_minor": 5
}
